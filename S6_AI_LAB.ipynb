{
  "nbformat": 4,
  "nbformat_minor": 0,
  "metadata": {
    "colab": {
      "provenance": [],
      "authorship_tag": "ABX9TyP4vOSinFaly79d1zXnf+Hw",
      "include_colab_link": true
    },
    "kernelspec": {
      "name": "python3",
      "display_name": "Python 3"
    },
    "language_info": {
      "name": "python"
    }
  },
  "cells": [
    {
      "cell_type": "markdown",
      "metadata": {
        "id": "view-in-github",
        "colab_type": "text"
      },
      "source": [
        "<a href=\"https://colab.research.google.com/github/ajil02/Artificial-Intelligence/blob/main/S6_AI_LAB.ipynb\" target=\"_parent\"><img src=\"https://colab.research.google.com/assets/colab-badge.svg\" alt=\"Open In Colab\"/></a>"
      ]
    },
    {
      "cell_type": "markdown",
      "source": [
        "Experiment 1"
      ],
      "metadata": {
        "id": "yaE5oKGXtZi6"
      }
    },
    {
      "cell_type": "code",
      "source": [
        "n = int(input(\"Enter the number of queens:\"))\n",
        "board = [[0]*n for _ in range(n)]\n",
        "\n",
        "def attack(board, row, col, n):\n",
        "    for i in range(n):\n",
        "        if board[row][i] == 1 or board[i][col] == 1:\n",
        "            return False\n",
        "        if 0 <= row-i < n and 0 <= col-i < n and board[row-i][col-i] == 1:\n",
        "            return False\n",
        "        if 0 <= row-i < n and 0 <= col+i < n and board[row-i][col+i] == 1:\n",
        "            return False\n",
        "    return True\n",
        "\n",
        "def placing_queens(board, row, n):\n",
        "    if row >= n:\n",
        "        return True\n",
        "    for col in range(n):\n",
        "        if attack(board, row, col, n):\n",
        "            board[row][col] = 1\n",
        "            if placing_queens(board, row+1, n):\n",
        "                return True\n",
        "            board[row][col] = 0\n",
        "    return False\n",
        "\n",
        "if placing_queens(board, 0, n):\n",
        "    print(\"Queens placed safely at non-attacking positions:\")\n",
        "    for row in board:\n",
        "        print(\" \".join(map(str,row)))\n",
        "else:\n",
        "    print(\"No solution exists.\")\n"
      ],
      "metadata": {
        "colab": {
          "base_uri": "https://localhost:8080/"
        },
        "id": "nmhJwmtCo1u7",
        "outputId": "11d3cf34-cb0a-4bc7-f37b-a801d2d06b44"
      },
      "execution_count": 1,
      "outputs": [
        {
          "output_type": "stream",
          "name": "stdout",
          "text": [
            "Enter the number of queens:8\n",
            "Queens placed safely at non-attacking positions:\n",
            "1 0 0 0 0 0 0 0\n",
            "0 0 0 0 1 0 0 0\n",
            "0 0 0 0 0 0 0 1\n",
            "0 0 0 0 0 1 0 0\n",
            "0 0 1 0 0 0 0 0\n",
            "0 0 0 0 0 0 1 0\n",
            "0 1 0 0 0 0 0 0\n",
            "0 0 0 1 0 0 0 0\n"
          ]
        }
      ]
    },
    {
      "cell_type": "markdown",
      "source": [
        "Experiment 2"
      ],
      "metadata": {
        "id": "e9qzfzJzwN3b"
      }
    },
    {
      "cell_type": "code",
      "source": [
        "jug1 = int(input(\"Enter the capacity of jug 1: \"))\n",
        "jug2 = int(input(\"Enter the capacity of jug 2: \"))\n",
        "aim = int(input(\"Enter the desired amount of water in the second jug: \"))\n",
        "\n",
        "steps = []\n",
        "amt1, amt2 = 0, 0\n",
        "while (amt1 != aim) and (amt2 != aim):\n",
        "  if amt1 == 0:\n",
        "    amt1 = jug1\n",
        "    steps.append((amt1, amt2))\n",
        "\n",
        "  elif amt1 != 0 and amt2 != jug2:\n",
        "    transfer_amount = min(amt1, jug2 - amt2)\n",
        "    amt1 -= transfer_amount\n",
        "    amt2 += transfer_amount\n",
        "    steps.append((amt1, amt2))\n",
        "\n",
        "  elif amt2 == jug2:\n",
        "    amt2 = 0\n",
        "    steps.append((amt1, amt2))\n",
        "\n",
        "amt2=amt1\n",
        "amt1=0\n",
        "steps.append((amt1,amt2))\n",
        "# Print the steps\n",
        "print(\"Steps to solve the Water Jug Problem:\")\n",
        "for step in steps:\n",
        "  print(step)\n"
      ],
      "metadata": {
        "colab": {
          "base_uri": "https://localhost:8080/"
        },
        "id": "uX7nimvUtfir",
        "outputId": "079bae1d-dd2c-4ba1-f4a1-2f9fa69c5f73"
      },
      "execution_count": 9,
      "outputs": [
        {
          "output_type": "stream",
          "name": "stdout",
          "text": [
            "Enter the capacity of jug 1: 8\n",
            "Enter the capacity of jug 2: 9\n",
            "Enter the desired amount of water in the second jug: 7\n",
            "Steps to solve the Water Jug Problem:\n",
            "(8, 0)\n",
            "(0, 8)\n",
            "(8, 8)\n",
            "(7, 9)\n",
            "(0, 7)\n"
          ]
        }
      ]
    }
  ]
}